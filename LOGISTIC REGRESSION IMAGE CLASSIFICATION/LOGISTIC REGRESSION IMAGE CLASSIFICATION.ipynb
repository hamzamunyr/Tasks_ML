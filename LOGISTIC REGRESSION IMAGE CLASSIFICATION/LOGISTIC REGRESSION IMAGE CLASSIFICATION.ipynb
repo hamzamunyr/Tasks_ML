{
  "cells": [
    {
      "cell_type": "code",
      "source": [
        "import numpy as np\n",
        "import matplotlib.pyplot as plt\n",
        "from sklearn.datasets import load_digits\n",
        "from sklearn.model_selection import train_test_split\n",
        "from sklearn.linear_model import LogisticRegression\n",
        "from sklearn.metrics import accuracy_score, classification_report, confusion_matrix\n",
        "from sklearn.preprocessing import StandardScaler\n",
        "import seaborn as sns"
      ],
      "metadata": {
        "id": "CuZ6ipCbsExy"
      },
      "execution_count": 16,
      "outputs": []
    },
    {
      "cell_type": "code",
      "source": [
        "from google.colab import files\n",
        "uploaded = files.upload()"
      ],
      "metadata": {
        "id": "O2f8fpc7sH4h",
        "outputId": "35545e2e-28fc-4af4-d191-e5193846ec73",
        "colab": {
          "base_uri": "https://localhost:8080/",
          "height": 73
        }
      },
      "execution_count": 17,
      "outputs": [
        {
          "output_type": "display_data",
          "data": {
            "text/plain": [
              "<IPython.core.display.HTML object>"
            ],
            "text/html": [
              "\n",
              "     <input type=\"file\" id=\"files-9547758f-9c02-4afa-99d9-bd36044ef015\" name=\"files[]\" multiple disabled\n",
              "        style=\"border:none\" />\n",
              "     <output id=\"result-9547758f-9c02-4afa-99d9-bd36044ef015\">\n",
              "      Upload widget is only available when the cell has been executed in the\n",
              "      current browser session. Please rerun this cell to enable.\n",
              "      </output>\n",
              "      <script>// Copyright 2017 Google LLC\n",
              "//\n",
              "// Licensed under the Apache License, Version 2.0 (the \"License\");\n",
              "// you may not use this file except in compliance with the License.\n",
              "// You may obtain a copy of the License at\n",
              "//\n",
              "//      http://www.apache.org/licenses/LICENSE-2.0\n",
              "//\n",
              "// Unless required by applicable law or agreed to in writing, software\n",
              "// distributed under the License is distributed on an \"AS IS\" BASIS,\n",
              "// WITHOUT WARRANTIES OR CONDITIONS OF ANY KIND, either express or implied.\n",
              "// See the License for the specific language governing permissions and\n",
              "// limitations under the License.\n",
              "\n",
              "/**\n",
              " * @fileoverview Helpers for google.colab Python module.\n",
              " */\n",
              "(function(scope) {\n",
              "function span(text, styleAttributes = {}) {\n",
              "  const element = document.createElement('span');\n",
              "  element.textContent = text;\n",
              "  for (const key of Object.keys(styleAttributes)) {\n",
              "    element.style[key] = styleAttributes[key];\n",
              "  }\n",
              "  return element;\n",
              "}\n",
              "\n",
              "// Max number of bytes which will be uploaded at a time.\n",
              "const MAX_PAYLOAD_SIZE = 100 * 1024;\n",
              "\n",
              "function _uploadFiles(inputId, outputId) {\n",
              "  const steps = uploadFilesStep(inputId, outputId);\n",
              "  const outputElement = document.getElementById(outputId);\n",
              "  // Cache steps on the outputElement to make it available for the next call\n",
              "  // to uploadFilesContinue from Python.\n",
              "  outputElement.steps = steps;\n",
              "\n",
              "  return _uploadFilesContinue(outputId);\n",
              "}\n",
              "\n",
              "// This is roughly an async generator (not supported in the browser yet),\n",
              "// where there are multiple asynchronous steps and the Python side is going\n",
              "// to poll for completion of each step.\n",
              "// This uses a Promise to block the python side on completion of each step,\n",
              "// then passes the result of the previous step as the input to the next step.\n",
              "function _uploadFilesContinue(outputId) {\n",
              "  const outputElement = document.getElementById(outputId);\n",
              "  const steps = outputElement.steps;\n",
              "\n",
              "  const next = steps.next(outputElement.lastPromiseValue);\n",
              "  return Promise.resolve(next.value.promise).then((value) => {\n",
              "    // Cache the last promise value to make it available to the next\n",
              "    // step of the generator.\n",
              "    outputElement.lastPromiseValue = value;\n",
              "    return next.value.response;\n",
              "  });\n",
              "}\n",
              "\n",
              "/**\n",
              " * Generator function which is called between each async step of the upload\n",
              " * process.\n",
              " * @param {string} inputId Element ID of the input file picker element.\n",
              " * @param {string} outputId Element ID of the output display.\n",
              " * @return {!Iterable<!Object>} Iterable of next steps.\n",
              " */\n",
              "function* uploadFilesStep(inputId, outputId) {\n",
              "  const inputElement = document.getElementById(inputId);\n",
              "  inputElement.disabled = false;\n",
              "\n",
              "  const outputElement = document.getElementById(outputId);\n",
              "  outputElement.innerHTML = '';\n",
              "\n",
              "  const pickedPromise = new Promise((resolve) => {\n",
              "    inputElement.addEventListener('change', (e) => {\n",
              "      resolve(e.target.files);\n",
              "    });\n",
              "  });\n",
              "\n",
              "  const cancel = document.createElement('button');\n",
              "  inputElement.parentElement.appendChild(cancel);\n",
              "  cancel.textContent = 'Cancel upload';\n",
              "  const cancelPromise = new Promise((resolve) => {\n",
              "    cancel.onclick = () => {\n",
              "      resolve(null);\n",
              "    };\n",
              "  });\n",
              "\n",
              "  // Wait for the user to pick the files.\n",
              "  const files = yield {\n",
              "    promise: Promise.race([pickedPromise, cancelPromise]),\n",
              "    response: {\n",
              "      action: 'starting',\n",
              "    }\n",
              "  };\n",
              "\n",
              "  cancel.remove();\n",
              "\n",
              "  // Disable the input element since further picks are not allowed.\n",
              "  inputElement.disabled = true;\n",
              "\n",
              "  if (!files) {\n",
              "    return {\n",
              "      response: {\n",
              "        action: 'complete',\n",
              "      }\n",
              "    };\n",
              "  }\n",
              "\n",
              "  for (const file of files) {\n",
              "    const li = document.createElement('li');\n",
              "    li.append(span(file.name, {fontWeight: 'bold'}));\n",
              "    li.append(span(\n",
              "        `(${file.type || 'n/a'}) - ${file.size} bytes, ` +\n",
              "        `last modified: ${\n",
              "            file.lastModifiedDate ? file.lastModifiedDate.toLocaleDateString() :\n",
              "                                    'n/a'} - `));\n",
              "    const percent = span('0% done');\n",
              "    li.appendChild(percent);\n",
              "\n",
              "    outputElement.appendChild(li);\n",
              "\n",
              "    const fileDataPromise = new Promise((resolve) => {\n",
              "      const reader = new FileReader();\n",
              "      reader.onload = (e) => {\n",
              "        resolve(e.target.result);\n",
              "      };\n",
              "      reader.readAsArrayBuffer(file);\n",
              "    });\n",
              "    // Wait for the data to be ready.\n",
              "    let fileData = yield {\n",
              "      promise: fileDataPromise,\n",
              "      response: {\n",
              "        action: 'continue',\n",
              "      }\n",
              "    };\n",
              "\n",
              "    // Use a chunked sending to avoid message size limits. See b/62115660.\n",
              "    let position = 0;\n",
              "    do {\n",
              "      const length = Math.min(fileData.byteLength - position, MAX_PAYLOAD_SIZE);\n",
              "      const chunk = new Uint8Array(fileData, position, length);\n",
              "      position += length;\n",
              "\n",
              "      const base64 = btoa(String.fromCharCode.apply(null, chunk));\n",
              "      yield {\n",
              "        response: {\n",
              "          action: 'append',\n",
              "          file: file.name,\n",
              "          data: base64,\n",
              "        },\n",
              "      };\n",
              "\n",
              "      let percentDone = fileData.byteLength === 0 ?\n",
              "          100 :\n",
              "          Math.round((position / fileData.byteLength) * 100);\n",
              "      percent.textContent = `${percentDone}% done`;\n",
              "\n",
              "    } while (position < fileData.byteLength);\n",
              "  }\n",
              "\n",
              "  // All done.\n",
              "  yield {\n",
              "    response: {\n",
              "      action: 'complete',\n",
              "    }\n",
              "  };\n",
              "}\n",
              "\n",
              "scope.google = scope.google || {};\n",
              "scope.google.colab = scope.google.colab || {};\n",
              "scope.google.colab._files = {\n",
              "  _uploadFiles,\n",
              "  _uploadFilesContinue,\n",
              "};\n",
              "})(self);\n",
              "</script> "
            ]
          },
          "metadata": {}
        },
        {
          "output_type": "stream",
          "name": "stdout",
          "text": [
            "Saving archive (2).zip to archive (2).zip\n"
          ]
        }
      ]
    },
    {
      "cell_type": "code",
      "source": [
        "print(\"=\"*60)\n",
        "print(\"METHOD 1: UPLOAD ZIP FILE FROM YOUR COMPUTER\")\n",
        "print(\"=\"*60)\n",
        "\n",
        "from google.colab import files\n",
        "import zipfile\n",
        "import os\n",
        "from PIL import Image\n",
        "import matplotlib.pyplot as plt\n",
        "import numpy as np"
      ],
      "metadata": {
        "id": "xtv25jNrsKSA",
        "outputId": "739ec87f-00e1-4057-e8f9-7c4057b8d0e8",
        "colab": {
          "base_uri": "https://localhost:8080/"
        }
      },
      "execution_count": 18,
      "outputs": [
        {
          "output_type": "stream",
          "name": "stdout",
          "text": [
            "============================================================\n",
            "METHOD 1: UPLOAD ZIP FILE FROM YOUR COMPUTER\n",
            "============================================================\n"
          ]
        }
      ]
    },
    {
      "cell_type": "code",
      "source": [
        "zip_filename = list(uploaded.keys())[0]\n",
        "print(f\"\\n✓ Uploaded: {zip_filename}\")"
      ],
      "metadata": {
        "id": "G6p0cVyls0A0",
        "outputId": "32e251de-1f1f-4f36-f722-c3d6535005ff",
        "colab": {
          "base_uri": "https://localhost:8080/"
        }
      },
      "execution_count": 19,
      "outputs": [
        {
          "output_type": "stream",
          "name": "stdout",
          "text": [
            "\n",
            "✓ Uploaded: archive (2).zip\n"
          ]
        }
      ]
    },
    {
      "cell_type": "code",
      "source": [
        "print(\"\\n📂 Extracting ZIP file...\")\n",
        "with zipfile.ZipFile(zip_filename, 'r') as zip_ref:\n",
        "    zip_ref.extractall('dataset')"
      ],
      "metadata": {
        "id": "O5oGuZ5uvo8P",
        "outputId": "7be77241-9472-4f9b-fd07-2dd6eb12a9ca",
        "colab": {
          "base_uri": "https://localhost:8080/"
        }
      },
      "execution_count": 20,
      "outputs": [
        {
          "output_type": "stream",
          "name": "stdout",
          "text": [
            "\n",
            "📂 Extracting ZIP file...\n"
          ]
        }
      ]
    },
    {
      "cell_type": "code",
      "source": [
        "print(\"\\n📁 Directory structure:\")\n",
        "for root, dirs, files in os.walk('dataset'):\n",
        "    level = root.replace('dataset', '').count(os.sep)\n",
        "    indent = ' ' * 2 * level\n",
        "    print(f'{indent}{os.path.basename(root)}/')\n",
        "    subindent = ' ' * 2 * (level + 1)\n",
        "    for file in files[:5]:  # Show first 5 files\n",
        "        print(f'{subindent}{file}')\n",
        "    if len(files) > 5:\n",
        "        print(f'{subindent}... and {len(files)-5} more files')"
      ],
      "metadata": {
        "id": "O7e31fVEvypb",
        "outputId": "6985b194-49ab-44c8-b75b-5075595808c8",
        "colab": {
          "base_uri": "https://localhost:8080/"
        }
      },
      "execution_count": 21,
      "outputs": [
        {
          "output_type": "stream",
          "name": "stdout",
          "text": [
            "\n",
            "📁 Directory structure:\n",
            "dataset/\n",
            "  all_features.csv\n",
            "  features.csv\n",
            "  features/\n",
            "    all_features.csv\n",
            "    preprocess.csv\n",
            "    training_features.csv\n",
            "  raw_data/\n",
            "    32/\n",
            "      t2/\n",
            "        segMask_tumor.nrrd\n",
            "        imagingVolume.nrrd\n",
            "      t1/\n",
            "        segMask_tumor.nrrd\n",
            "        imagingVolume.nrrd\n",
            "    19/\n",
            "      t2/\n",
            "        segMask_tumor.nrrd\n",
            "        imagingVolume.nrrd\n",
            "      t1/\n",
            "        segMask_tumor.nrrd\n",
            "        imagingVolume.nrrd\n",
            "    15/\n",
            "      t2/\n",
            "        segMask_tumor.nrrd\n",
            "        imagingVolume.nrrd\n",
            "      t1/\n",
            "        segMask_tumor.nrrd\n",
            "        imagingVolume.nrrd\n",
            "    22/\n",
            "      t2/\n",
            "        segMask_tumor.nrrd\n",
            "        imagingVolume.nrrd\n",
            "      t1/\n",
            "        segMask_tumor.nrrd\n",
            "        imagingVolume.nrrd\n",
            "    34/\n",
            "      t2/\n",
            "        segMask_tumor.nrrd\n",
            "        imagingVolume.nrrd\n",
            "      t1/\n",
            "        segMask_tumor.nrrd\n",
            "        imagingVolume.nrrd\n",
            "    37/\n",
            "      t2/\n",
            "        segMask_tumor.nrrd\n",
            "        imagingVolume.nrrd\n",
            "      t1/\n",
            "        segMask_tumor.nrrd\n",
            "        imagingVolume.nrrd\n",
            "    10/\n",
            "      t2/\n",
            "        segMask_tumor.nrrd\n",
            "        imagingVolume.nrrd\n",
            "      t1/\n",
            "        segMask_tumor.nrrd\n",
            "        imagingVolume.nrrd\n",
            "    21/\n",
            "      t2/\n",
            "        segMask_tumor.nrrd\n",
            "        imagingVolume.nrrd\n",
            "      t1/\n",
            "        segMask_tumor.nrrd\n",
            "        imagingVolume.nrrd\n",
            "    36/\n",
            "      t2/\n",
            "        segMask_tumor.nrrd\n",
            "        imagingVolume.nrrd\n",
            "      t1/\n",
            "        segMask_tumor.nrrd\n",
            "        imagingVolume.nrrd\n",
            "    3/\n",
            "      t2/\n",
            "        segMask_tumor.nrrd\n",
            "        imagingVolume.nrrd\n",
            "      t1/\n",
            "        segMask_tumor.nrrd\n",
            "        imagingVolume.nrrd\n",
            "    1/\n",
            "      t2/\n",
            "        segMask_tumor.nrrd\n",
            "        imagingVolume.nrrd\n",
            "      t1/\n",
            "        segMask_tumor.nrrd\n",
            "        imagingVolume.nrrd\n",
            "    39/\n",
            "      t2/\n",
            "        segMask_tumor.nrrd\n",
            "        imagingVolume.nrrd\n",
            "      t1/\n",
            "        segMask_tumor.nrrd\n",
            "        imagingVolume.nrrd\n",
            "    5/\n",
            "      t2/\n",
            "        segMask_tumor.nrrd\n",
            "        imagingVolume.nrrd\n",
            "      t1/\n",
            "        segMask_tumor.nrrd\n",
            "        imagingVolume.nrrd\n",
            "    31/\n",
            "      t2/\n",
            "        segMask_tumor.nrrd\n",
            "        imagingVolume.nrrd\n",
            "      t1/\n",
            "        segMask_tumor.nrrd\n",
            "        imagingVolume.nrrd\n",
            "    13/\n",
            "      t2/\n",
            "        segMask_tumor.nrrd\n",
            "        imagingVolume.nrrd\n",
            "      t1/\n",
            "        segMask_tumor.nrrd\n",
            "        imagingVolume.nrrd\n",
            "    33/\n",
            "      t2/\n",
            "        segMask_tumor.nrrd\n",
            "        imagingVolume.nrrd\n",
            "      t1/\n",
            "        segMask_tumor.nrrd\n",
            "        imagingVolume.nrrd\n",
            "    38/\n",
            "      t2/\n",
            "        segMask_tumor.nrrd\n",
            "        imagingVolume.nrrd\n",
            "      t1/\n",
            "        segMask_tumor.nrrd\n",
            "        imagingVolume.nrrd\n",
            "    2/\n",
            "      t2/\n",
            "        segMask_tumor.nrrd\n",
            "        imagingVolume.nrrd\n",
            "      t1/\n",
            "        segMask_tumor.nrrd\n",
            "        imagingVolume.nrrd\n",
            "    20/\n",
            "      t2/\n",
            "        segMask_tumor.nrrd\n",
            "        imagingVolume.nrrd\n",
            "      t1/\n",
            "        segMask_tumor.nrrd\n",
            "        imagingVolume.nrrd\n",
            "    8/\n",
            "      t2/\n",
            "        segMask_tumor.nrrd\n",
            "        imagingVolume.nrrd\n",
            "      t1/\n",
            "        segMask_tumor.nrrd\n",
            "        imagingVolume.nrrd\n"
          ]
        }
      ]
    },
    {
      "cell_type": "code",
      "source": [
        "digits = load_digits()\n",
        "\n",
        "print(\"\\n✓ Dataset loaded!\")\n",
        "print(f\"Dataset shape: {digits.data.shape}\")\n",
        "print(f\"Number of samples: {digits.data.shape[0]}\")\n",
        "print(f\"Number of features (pixels): {digits.data.shape[1]}\")\n",
        "print(f\"Number of classes: {len(np.unique(digits.target))}\")\n",
        "print(f\"Classes: {np.unique(digits.target)}\")"
      ],
      "metadata": {
        "id": "Yhz5sA-1v34I",
        "outputId": "c2931208-642b-4541-82af-85bc0482ea43",
        "colab": {
          "base_uri": "https://localhost:8080/"
        }
      },
      "execution_count": 22,
      "outputs": [
        {
          "output_type": "stream",
          "name": "stdout",
          "text": [
            "\n",
            "✓ Dataset loaded!\n",
            "Dataset shape: (1797, 64)\n",
            "Number of samples: 1797\n",
            "Number of features (pixels): 64\n",
            "Number of classes: 10\n",
            "Classes: [0 1 2 3 4 5 6 7 8 9]\n"
          ]
        }
      ]
    },
    {
      "cell_type": "code",
      "source": [
        "print(\"\\n\" + \"=\"*50)\n",
        "print(\"SAMPLE IMAGES\")\n",
        "print(\"=\"*50)\n",
        "\n",
        "fig, axes = plt.subplots(2, 5, figsize=(12, 5))\n",
        "for i, ax in enumerate(axes.flat):\n",
        "    ax.imshow(digits.images[i], cmap='gray')\n",
        "    ax.set_title(f'Label: {digits.target[i]}')\n",
        "    ax.axis('off')\n",
        "plt.tight_layout()\n",
        "plt.show()\n"
      ],
      "metadata": {
        "id": "SNPIFSZ1wAGT",
        "outputId": "6bb0f608-176a-4e99-a3e9-10f49f01bf30",
        "colab": {
          "base_uri": "https://localhost:8080/",
          "height": 587
        }
      },
      "execution_count": 23,
      "outputs": [
        {
          "output_type": "stream",
          "name": "stdout",
          "text": [
            "\n",
            "==================================================\n",
            "SAMPLE IMAGES\n",
            "==================================================\n"
          ]
        },
        {
          "output_type": "display_data",
          "data": {
            "text/plain": [
              "<Figure size 1200x500 with 10 Axes>"
            ],
            "image/png": "[encoded data removed]"
          },
          "metadata": {}
        }
      ]
    },
    {
      "cell_type": "code",
      "source": [
        "X = digits.data\n",
        "y = digits.target\n",
        "\n",
        "print(\"\\n✓ Data prepared\")\n",
        "print(f\"X shape: {X.shape}\")\n",
        "print(f\"y shape: {y.shape}\")\n",
        "\n",
        "# Show what the data looks like\n",
        "print(\"\\nFirst image as pixel values (8x8):\")\n",
        "print(digits.images[0])\n",
        "print(f\"\\nFlattened (64 features): {X[0][:10]}... (showing first 10)\")\n",
        "print(f\"Label: {y[0]}\")"
      ],
      "metadata": {
        "id": "qHbpa54uwDRs",
        "outputId": "038fcca6-40b8-42b7-dc33-491ce72ec6b1",
        "colab": {
          "base_uri": "https://localhost:8080/"
        }
      },
      "execution_count": 24,
      "outputs": [
        {
          "output_type": "stream",
          "name": "stdout",
          "text": [
            "\n",
            "✓ Data prepared\n",
            "X shape: (1797, 64)\n",
            "y shape: (1797,)\n",
            "\n",
            "First image as pixel values (8x8):\n",
            "[[ 0.  0.  5. 13.  9.  1.  0.  0.]\n",
            " [ 0.  0. 13. 15. 10. 15.  5.  0.]\n",
            " [ 0.  3. 15.  2.  0. 11.  8.  0.]\n",
            " [ 0.  4. 12.  0.  0.  8.  8.  0.]\n",
            " [ 0.  5.  8.  0.  0.  9.  8.  0.]\n",
            " [ 0.  4. 11.  0.  1. 12.  7.  0.]\n",
            " [ 0.  2. 14.  5. 10. 12.  0.  0.]\n",
            " [ 0.  0.  6. 13. 10.  0.  0.  0.]]\n",
            "\n",
            "Flattened (64 features): [ 0.  0.  5. 13.  9.  1.  0.  0.  0.  0.]... (showing first 10)\n",
            "Label: 0\n"
          ]
        }
      ]
    },
    {
      "cell_type": "code",
      "source": [
        "X_train, X_test, y_train, y_test = train_test_split(\n",
        "    X, y, test_size=0.2, random_state=42, stratify=y\n",
        ")\n",
        "\n",
        "print(\"\\n✓ Data split into train and test sets\")\n",
        "print(f\"Training samples: {X_train.shape[0]}\")\n",
        "print(f\"Testing samples: {X_test.shape[0]}\")\n",
        "\n",
        "# Check class distribution\n",
        "unique, counts = np.unique(y_train, return_counts=True)\n",
        "print(\"\\nTraining set class distribution:\")\n",
        "for digit, count in zip(unique, counts):\n",
        "    print(f\"  Digit {digit}: {count} samples\")\n"
      ],
      "metadata": {
        "id": "boDC8NXgwIKa",
        "outputId": "ec36f51f-5f8e-479e-a9ba-6de0bff1c57b",
        "colab": {
          "base_uri": "https://localhost:8080/"
        }
      },
      "execution_count": 25,
      "outputs": [
        {
          "output_type": "stream",
          "name": "stdout",
          "text": [
            "\n",
            "✓ Data split into train and test sets\n",
            "Training samples: 1437\n",
            "Testing samples: 360\n",
            "\n",
            "Training set class distribution:\n",
            "  Digit 0: 142 samples\n",
            "  Digit 1: 146 samples\n",
            "  Digit 2: 142 samples\n",
            "  Digit 3: 146 samples\n",
            "  Digit 4: 145 samples\n",
            "  Digit 5: 145 samples\n",
            "  Digit 6: 145 samples\n",
            "  Digit 7: 143 samples\n",
            "  Digit 8: 139 samples\n",
            "  Digit 9: 144 samples\n"
          ]
        }
      ]
    },
    {
      "cell_type": "code",
      "source": [
        "scaler = StandardScaler()\n",
        "X_train_scaled = scaler.fit_transform(X_train)\n",
        "X_test_scaled = scaler.transform(X_test)\n",
        "\n",
        "print(\"\\n✓ Features scaled (standardized)\")"
      ],
      "metadata": {
        "id": "ACsOAtzcwLJn",
        "outputId": "67cbc7db-d88b-46f5-a412-4eda8d235972",
        "colab": {
          "base_uri": "https://localhost:8080/"
        }
      },
      "execution_count": 26,
      "outputs": [
        {
          "output_type": "stream",
          "name": "stdout",
          "text": [
            "\n",
            "✓ Features scaled (standardized)\n"
          ]
        }
      ]
    },
    {
      "cell_type": "code",
      "source": [
        "print(\"\\n\" + \"=\"*50)\n",
        "print(\"TRAINING MODEL\")\n",
        "print(\"=\"*50)\n",
        "\n",
        "# Using 'lbfgs' solver which works well for multiclass\n",
        "# max_iter increased for convergence\n",
        "model = LogisticRegression(\n",
        "    max_iter=10000,\n",
        "    solver='lbfgs',\n",
        "    multi_class='multinomial',\n",
        "    random_state=42\n",
        ")\n",
        "\n",
        "print(\"\\nTraining... (this may take a moment)\")\n",
        "model.fit(X_train_scaled, y_train)\n",
        "\n",
        "print(\"✓ Model trained successfully!\")"
      ],
      "metadata": {
        "id": "mUNxJY0XwOD3",
        "outputId": "c06908ea-843b-47c1-cf01-875d04efbaec",
        "colab": {
          "base_uri": "https://localhost:8080/"
        }
      },
      "execution_count": 27,
      "outputs": [
        {
          "output_type": "stream",
          "name": "stdout",
          "text": [
            "\n",
            "==================================================\n",
            "TRAINING MODEL\n",
            "==================================================\n",
            "\n",
            "Training... (this may take a moment)\n"
          ]
        },
        {
          "output_type": "stream",
          "name": "stderr",
          "text": [
            "/usr/local/lib/python3.12/dist-packages/sklearn/linear_model/_logistic.py:1247: FutureWarning: 'multi_class' was deprecated in version 1.5 and will be removed in 1.7. From then on, it will always use 'multinomial'. Leave it to its default value to avoid this warning.\n",
            "  warnings.warn(\n"
          ]
        },
        {
          "output_type": "stream",
          "name": "stdout",
          "text": [
            "✓ Model trained successfully!\n"
          ]
        }
      ]
    },
    {
      "cell_type": "code",
      "source": [
        "y_train_pred = model.predict(X_train_scaled)\n",
        "y_test_pred = model.predict(X_test_scaled)\n",
        "\n",
        "print(\"\\n✓ Predictions made!\")"
      ],
      "metadata": {
        "id": "dqXkLE5gwRCp",
        "outputId": "1d5be105-3b82-48da-872e-18744cfe1162",
        "colab": {
          "base_uri": "https://localhost:8080/"
        }
      },
      "execution_count": 28,
      "outputs": [
        {
          "output_type": "stream",
          "name": "stdout",
          "text": [
            "\n",
            "✓ Predictions made!\n"
          ]
        }
      ]
    },
    {
      "cell_type": "code",
      "source": [
        "print(\"\\n\" + \"=\"*50)\n",
        "print(\"MODEL EVALUATION\")\n",
        "print(\"=\"*50)\n",
        "\n",
        "train_accuracy = accuracy_score(y_train, y_train_pred)\n",
        "test_accuracy = accuracy_score(y_test, y_test_pred)\n",
        "\n",
        "print(f\"\\nTraining Accuracy: {train_accuracy:.4f} ({train_accuracy*100:.2f}%)\")\n",
        "print(f\"Testing Accuracy: {test_accuracy:.4f} ({test_accuracy*100:.2f}%)\")\n",
        "\n",
        "print(\"\\n\" + \"-\"*50)\n",
        "print(\"Detailed Classification Report (Test Set):\")\n",
        "print(\"-\"*50)\n",
        "print(classification_report(y_test, y_test_pred))"
      ],
      "metadata": {
        "id": "sOFvXhsnwUA1",
        "outputId": "ece99d07-67b1-43c8-86df-de2923cd8f32",
        "colab": {
          "base_uri": "https://localhost:8080/"
        }
      },
      "execution_count": 29,
      "outputs": [
        {
          "output_type": "stream",
          "name": "stdout",
          "text": [
            "\n",
            "==================================================\n",
            "MODEL EVALUATION\n",
            "==================================================\n",
            "\n",
            "Training Accuracy: 0.9993 (99.93%)\n",
            "Testing Accuracy: 0.9722 (97.22%)\n",
            "\n",
            "--------------------------------------------------\n",
            "Detailed Classification Report (Test Set):\n",
            "--------------------------------------------------\n",
            "              precision    recall  f1-score   support\n",
            "\n",
            "           0       1.00      1.00      1.00        36\n",
            "           1       0.89      0.89      0.89        36\n",
            "           2       1.00      1.00      1.00        35\n",
            "           3       0.97      1.00      0.99        37\n",
            "           4       0.97      1.00      0.99        36\n",
            "           5       1.00      1.00      1.00        37\n",
            "           6       1.00      0.97      0.99        36\n",
            "           7       1.00      1.00      1.00        36\n",
            "           8       0.89      0.89      0.89        35\n",
            "           9       1.00      0.97      0.99        36\n",
            "\n",
            "    accuracy                           0.97       360\n",
            "   macro avg       0.97      0.97      0.97       360\n",
            "weighted avg       0.97      0.97      0.97       360\n",
            "\n"
          ]
        }
      ]
    },
    {
      "cell_type": "code",
      "source": [
        "print(\"\\n\" + \"=\"*50)\n",
        "print(\"CONFUSION MATRIX\")\n",
        "print(\"=\"*50)\n",
        "\n",
        "cm = confusion_matrix(y_test, y_test_pred)\n",
        "\n",
        "plt.figure(figsize=(10, 8))\n",
        "sns.heatmap(cm, annot=True, fmt='d', cmap='Blues',\n",
        "            xticklabels=range(10), yticklabels=range(10))\n",
        "plt.title('Confusion Matrix')\n",
        "plt.ylabel('True Label')\n",
        "plt.xlabel('Predicted Label')\n",
        "plt.tight_layout()\n",
        "plt.show()"
      ],
      "metadata": {
        "id": "VM8Cdhl7wWzI",
        "outputId": "a57ec891-db0b-492d-bc1f-7dd16115620c",
        "colab": {
          "base_uri": "https://localhost:8080/",
          "height": 880
        }
      },
      "execution_count": 30,
      "outputs": [
        {
          "output_type": "stream",
          "name": "stdout",
          "text": [
            "\n",
            "==================================================\n",
            "CONFUSION MATRIX\n",
            "==================================================\n"
          ]
        },
        {
          "output_type": "display_data",
          "data": {
            "text/plain": [
              "<Figure size 1000x800 with 2 Axes>"
            ],
            "image/png": "[encoded data removed]"
          },
          "metadata": {}
        }
      ]
    },
    {
      "cell_type": "code",
      "source": [
        "print(\"\\n\" + \"=\"*50)\n",
        "print(\"SAMPLE PREDICTIONS\")\n",
        "print(\"=\"*50)\n",
        "\n",
        "# Get indices of correct and incorrect predictions\n",
        "correct_idx = np.where(y_test == y_test_pred)[0]\n",
        "incorrect_idx = np.where(y_test != y_test_pred)[0]\n",
        "\n",
        "print(f\"\\nCorrect predictions: {len(correct_idx)}\")\n",
        "print(f\"Incorrect predictions: {len(incorrect_idx)}\")\n",
        "\n",
        "# Visualize some correct predictions\n",
        "fig, axes = plt.subplots(2, 5, figsize=(12, 5))\n",
        "fig.suptitle('Correct Predictions', fontsize=14, fontweight='bold')\n",
        "for i, ax in enumerate(axes.flat):\n",
        "    if i < len(correct_idx):\n",
        "        idx = correct_idx[i]\n",
        "        ax.imshow(X_test[idx].reshape(8, 8), cmap='gray')\n",
        "        ax.set_title(f'True: {y_test[idx]}\\nPred: {y_test_pred[idx]}',\n",
        "                     color='green')\n",
        "        ax.axis('off')\n",
        "plt.tight_layout()\n",
        "plt.show()\n",
        "\n",
        "# Visualize some incorrect predictions (if any)\n",
        "if len(incorrect_idx) > 0:\n",
        "    fig, axes = plt.subplots(2, 5, figsize=(12, 5))\n",
        "    fig.suptitle('Incorrect Predictions', fontsize=14, fontweight='bold')\n",
        "    for i, ax in enumerate(axes.flat):\n",
        "        if i < len(incorrect_idx):\n",
        "            idx = incorrect_idx[i]\n",
        "            ax.imshow(X_test[idx].reshape(8, 8), cmap='gray')\n",
        "            ax.set_title(f'True: {y_test[idx]}\\nPred: {y_test_pred[idx]}',\n",
        "                         color='red')\n",
        "            ax.axis('off')\n",
        "        else:\n",
        "            ax.axis('off')\n",
        "    plt.tight_layout()\n",
        "    plt.show()\n"
      ],
      "metadata": {
        "id": "HTVG2NZ_waFl",
        "outputId": "de52f266-2a04-4bef-d2c5-6bf01c73f351",
        "colab": {
          "base_uri": "https://localhost:8080/",
          "height": 1000
        }
      },
      "execution_count": 31,
      "outputs": [
        {
          "output_type": "stream",
          "name": "stdout",
          "text": [
            "\n",
            "==================================================\n",
            "SAMPLE PREDICTIONS\n",
            "==================================================\n",
            "\n",
            "Correct predictions: 350\n",
            "Incorrect predictions: 10\n"
          ]
        },
        {
          "output_type": "display_data",
          "data": {
            "text/plain": [
              "<Figure size 1200x500 with 10 Axes>"
            ],
            "image/png": "[encoded data removed]"
          },
          "metadata": {}
        },
        {
          "output_type": "display_data",
          "data": {
            "text/plain": [
              "<Figure size 1200x500 with 10 Axes>"
            ],
            "image/png": "[encoded data removed]"
          },
          "metadata": {}
        }
      ]
    },
    {
      "cell_type": "code",
      "source": [
        "print(\"\\n\" + \"=\"*50)\n",
        "print(\"PREDICTION PROBABILITIES\")\n",
        "print(\"=\"*50)\n",
        "\n",
        "# Get probabilities for first test sample\n",
        "sample_idx = 0\n",
        "sample_proba = model.predict_proba(X_test_scaled[[sample_idx]])[0]\n",
        "\n",
        "print(f\"\\nSample image (index {sample_idx}):\")\n",
        "plt.figure(figsize=(3, 3))\n",
        "plt.imshow(X_test[sample_idx].reshape(8, 8), cmap='gray')\n",
        "plt.title(f'True Label: {y_test[sample_idx]}')\n",
        "plt.axis('off')\n",
        "plt.show()\n",
        "\n",
        "print(\"\\nPrediction probabilities for each class:\")\n",
        "for digit, prob in enumerate(sample_proba):\n",
        "    bar = '█' * int(prob * 50)\n",
        "    print(f\"  Digit {digit}: {prob:.4f} {bar}\")\n",
        "\n",
        "print(f\"\\nPredicted class: {y_test_pred[sample_idx]}\")"
      ],
      "metadata": {
        "id": "z70SY3aUwhcd",
        "outputId": "89820631-de5b-4bb9-b21f-b286ccf30df0",
        "colab": {
          "base_uri": "https://localhost:8080/",
          "height": 655
        }
      },
      "execution_count": 32,
      "outputs": [
        {
          "output_type": "stream",
          "name": "stdout",
          "text": [
            "\n",
            "==================================================\n",
            "PREDICTION PROBABILITIES\n",
            "==================================================\n",
            "\n",
            "Sample image (index 0):\n"
          ]
        },
        {
          "output_type": "display_data",
          "data": {
            "text/plain": [
              "<Figure size 300x300 with 1 Axes>"
            ],
            "image/png": "[encoded data removed]"
          },
          "metadata": {}
        },
        {
          "output_type": "stream",
          "name": "stdout",
          "text": [
            "\n",
            "Prediction probabilities for each class:\n",
            "  Digit 0: 0.0001 \n",
            "  Digit 1: 0.0000 \n",
            "  Digit 2: 0.0000 \n",
            "  Digit 3: 0.0000 \n",
            "  Digit 4: 0.0000 \n",
            "  Digit 5: 0.9180 █████████████████████████████████████████████\n",
            "  Digit 6: 0.0001 \n",
            "  Digit 7: 0.0000 \n",
            "  Digit 8: 0.0005 \n",
            "  Digit 9: 0.0812 ████\n",
            "\n",
            "Predicted class: 5\n"
          ]
        }
      ]
    },
    {
      "cell_type": "code",
      "source": [
        "print(\"\\n\" + \"=\"*50)\n",
        "print(\"PREDICT ON NEW IMAGE\")\n",
        "print(\"=\"*50)\n",
        "\n",
        "# Select a random test image\n",
        "new_idx = np.random.randint(0, len(X_test))\n",
        "new_image = X_test[new_idx].reshape(1, -1)\n",
        "new_image_scaled = scaler.transform(new_image)\n",
        "\n",
        "# Make prediction\n",
        "prediction = model.predict(new_image_scaled)[0]\n",
        "probabilities = model.predict_proba(new_image_scaled)[0]\n",
        "confidence = np.max(probabilities)\n",
        "\n",
        "# Display result\n",
        "plt.figure(figsize=(4, 4))\n",
        "plt.imshow(X_test[new_idx].reshape(8, 8), cmap='gray')\n",
        "plt.title(f'Predicted: {prediction} (Confidence: {confidence:.2%})\\nTrue: {y_test[new_idx]}')\n",
        "plt.axis('off')\n",
        "plt.show()\n",
        "\n",
        "print(f\"\\nTrue label: {y_test[new_idx]}\")\n",
        "print(f\"Predicted: {prediction}\")\n",
        "print(f\"Confidence: {confidence:.2%}\")"
      ],
      "metadata": {
        "id": "b_dy8ckfwlkq",
        "outputId": "89850f2a-3fc5-4722-9094-74163f35e4b5",
        "colab": {
          "base_uri": "https://localhost:8080/",
          "height": 534
        }
      },
      "execution_count": 33,
      "outputs": [
        {
          "output_type": "stream",
          "name": "stdout",
          "text": [
            "\n",
            "==================================================\n",
            "PREDICT ON NEW IMAGE\n",
            "==================================================\n"
          ]
        },
        {
          "output_type": "display_data",
          "data": {
            "text/plain": [
              "<Figure size 400x400 with 1 Axes>"
            ],
            "image/png": "[encoded data removed]"
          },
          "metadata": {}
        },
        {
          "output_type": "stream",
          "name": "stdout",
          "text": [
            "\n",
            "True label: 6\n",
            "Predicted: 6\n",
            "Confidence: 99.06%\n"
          ]
        }
      ]
    },
    {
      "cell_type": "code",
      "source": [
        "print(\"\\n\" + \"=\"*50)\n",
        "print(\"MODEL COEFFICIENTS\")\n",
        "print(\"=\"*50)\n",
        "\n",
        "# Visualize coefficients for each class\n",
        "fig, axes = plt.subplots(2, 5, figsize=(15, 6))\n",
        "fig.suptitle('Learned Weights for Each Digit', fontsize=14, fontweight='bold')\n",
        "\n",
        "for digit in range(10):\n",
        "    ax = axes[digit // 5, digit % 5]\n",
        "    coef = model.coef_[digit].reshape(8, 8)\n",
        "    im = ax.imshow(coef, cmap='RdBu', aspect='auto')\n",
        "    ax.set_title(f'Digit {digit}')\n",
        "    ax.axis('off')\n",
        "    plt.colorbar(im, ax=ax, fraction=0.046)\n",
        "\n",
        "plt.tight_layout()\n",
        "plt.show()\n",
        "\n",
        "print(\"\\n\" + \"=\"*50)\n",
        "print(\"✓ LOGISTIC REGRESSION IMAGE CLASSIFICATION COMPLETE!\")\n",
        "print(\"=\"*50)\n",
        "print(f\"\\nFinal Test Accuracy: {test_accuracy*100:.2f}%\")"
      ],
      "metadata": {
        "id": "_MdK7uzRwo18",
        "outputId": "468699fe-ca3e-466d-c6d6-d17623cf1bc8",
        "colab": {
          "base_uri": "https://localhost:8080/",
          "height": 695
        }
      },
      "execution_count": 34,
      "outputs": [
        {
          "output_type": "stream",
          "name": "stdout",
          "text": [
            "\n",
            "==================================================\n",
            "MODEL COEFFICIENTS\n",
            "==================================================\n"
          ]
        },
        {
          "output_type": "display_data",
          "data": {
            "text/plain": [
              "<Figure size 1500x600 with 20 Axes>"
            ],
            "image/png": "[encoded data removed]"
          },
          "metadata": {}
        },
        {
          "output_type": "stream",
          "name": "stdout",
          "text": [
            "\n",
            "==================================================\n",
            "✓ LOGISTIC REGRESSION IMAGE CLASSIFICATION COMPLETE!\n",
            "==================================================\n",
            "\n",
            "Final Test Accuracy: 97.22%\n"
          ]
        }
      ]
    }
  ],
  "metadata": {
    "colab": {
      "name": "Welcome to Colab",
      "toc_visible": true,
      "provenance": []
    },
    "kernelspec": {
      "display_name": "Python 3",
      "name": "python3"
    }
  },
  "nbformat": 4,
  "nbformat_minor": 0
}